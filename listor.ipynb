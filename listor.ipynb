{
 "metadata": {
  "language_info": {
   "codemirror_mode": {
    "name": "ipython",
    "version": 3
   },
   "file_extension": ".py",
   "mimetype": "text/x-python",
   "name": "python",
   "nbconvert_exporter": "python",
   "pygments_lexer": "ipython3",
   "version": 3
  },
  "orig_nbformat": 2
 },
 "nbformat": 4,
 "nbformat_minor": 2,
 "cells": [
  {
   "source": [
    "# Listor\n",
    "* indexeringsoperator\n",
    "* append() - lägger till element i lista\n",
    "* loopa en lista\n",
    "* 2d lista"
   ],
   "cell_type": "markdown",
   "metadata": {}
  },
  {
   "cell_type": "code",
   "execution_count": null,
   "metadata": {},
   "outputs": [],
   "source": [
    "frukter=[\"äpple\", \"banan\", \"päron\", \"jordgubbe\", \"hallon\", \"kiwi\"]\n",
    "# indexering []\n",
    "print(f\"frukter[1]: {frukter[1]}\")\n",
    "print(f\"frukter[-1]: {frukter[-1]}\")\n",
    "# skrivoperator :\n",
    "print(f\"frukter[1:3]: {frukter[1:3]}\")\n"
   ]
  },
  {
   "cell_type": "code",
   "execution_count": null,
   "metadata": {},
   "outputs": [],
   "source": [
    "frukter=[\"äpple\", \"banan\", \"päron\", \"jordgubbe\", \"hallon\", \"kiwi\"]\n",
    "grönsaker=[\"sallad\", \"gurka\", \"tomat\"]\n",
    "\n",
    "fruktsallad=frukter\n",
    "\n",
    "for grönsak in grönsaker:\n",
    "    fruktsallad.append(grönsak)\n",
    "\n",
    "print(fruktsallad)"
   ]
  },
  {
   "cell_type": "code",
   "execution_count": null,
   "metadata": {},
   "outputs": [],
   "source": [
    "import matplotlib.pyplot\n",
    "# List comprehension\n",
    "y=[2*x-2 for x in range(10)]\n",
    "x=[x for x in range(10)]\n",
    "print(f\"y: {y}\")\n",
    "print(f\"x: {x}\")\n",
    "\n",
    "plt.plot(x,y)\n",
    "plt.xlabel(\"x\")\n",
    "plt.ylabel(\"y\")\n"
   ]
  }
 ]
}