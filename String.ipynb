{
 "metadata": {
  "language_info": {
   "codemirror_mode": {
    "name": "ipython",
    "version": 3
   },
   "file_extension": ".py",
   "mimetype": "text/x-python",
   "name": "python",
   "nbconvert_exporter": "python",
   "pygments_lexer": "ipython3",
   "version": "3.8.3-final"
  },
  "orig_nbformat": 2,
  "kernelspec": {
   "name": "python3",
   "display_name": "Python 3"
  }
 },
 "nbformat": 4,
 "nbformat_minor": 2,
 "cells": [
  {
   "source": [
    "# Uppgift 1\n",
    "namn=input(\"Skriv in ditt namn\")\n",
    "ant_bok=len(namn)\n",
    "\n",
    "print(f\"Det är {ant_bok} bokstäver i ditt namn.\")\n"
   ],
   "cell_type": "code",
   "metadata": {},
   "execution_count": 4,
   "outputs": [
    {
     "output_type": "stream",
     "name": "stdout",
     "text": [
      "Det är 4 bokstäver i ditt namn.\n"
     ]
    }
   ]
  },
  {
   "cell_type": "code",
   "execution_count": 3,
   "metadata": {},
   "outputs": [
    {
     "output_type": "stream",
     "name": "stdout",
     "text": [
      "Antalet ord i meningen är: 15\n"
     ]
    }
   ],
   "source": [
    "# Uppgift 2\n",
    "mening=\"En bild säger mer än tusen ord, en matematisk formel säger mer än tusen bilder\"\n",
    "\n",
    "antal_ord=len(mening.split())\n",
    "\n",
    "print(f\"Antalet ord i meningen är: {antal_ord}\")"
   ]
  },
  {
   "cell_type": "code",
   "execution_count": 156,
   "metadata": {},
   "outputs": [
    {
     "output_type": "stream",
     "name": "stdout",
     "text": [
      "Det finns 35 vokaler i meningen.\n"
     ]
    }
   ],
   "source": [
    "#Uppgift 4\n",
    "def antal_vokaler(str):\n",
    "    \"\"\"Beräknar och returnerar antal vokaler i strängen str.\"\"\"\n",
    "    VOKALER = \"aeiouy\"\n",
    "    antal = 0\n",
    "    for bokstav in str:\n",
    "        if bokstav in VOKALER:\n",
    "            antal += 1\n",
    "    return antal\n",
    "\n",
    "mening =(\"Do not worry about your difficulties in Mathematics. I can assure you mine are still          greater.\")\n",
    "n = antal_vokaler(mening)\n",
    "print (f\"Det finns {n} vokaler i meningen.\")\n"
   ]
  }
 ]
}